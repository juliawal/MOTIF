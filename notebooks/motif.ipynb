{
 "cells": [
  {
   "cell_type": "markdown",
   "id": "a592fb84",
   "metadata": {},
   "source": [
    "# Motif\n",
    "\n",
    "This notebook demonstrates how to run the full Motif pipeline,\n",
    "including data preprocessing, GRN inference, single-step aggregation of the resulting weights,\n",
    "and aggregation with different parameter settings using a defined parameter grid.\n",
    "Evaluation of the results is performed in a separate notebook."
   ]
  },
  {
   "cell_type": "code",
   "execution_count": 5,
   "id": "4c80b2cf",
   "metadata": {},
   "outputs": [],
   "source": [
    "import pandas as pd\n",
    "import sys\n",
    "import os\n",
    "from pathlib import Path\n",
    "import glob\n",
    "import json"
   ]
  },
  {
   "cell_type": "code",
   "execution_count": 6,
   "id": "71a1c765",
   "metadata": {},
   "outputs": [
    {
     "name": "stdout",
     "output_type": "stream",
     "text": [
      "Changed working directory to Motif root: /Users/juliamarlene/Documents/GitHub/Motif\n"
     ]
    }
   ],
   "source": [
    "# Determine the notebook’s current directory\n",
    "current = Path().resolve()\n",
    "\n",
    "# Traverse upward until we find a directory named \"Motif\"\n",
    "for p in [current] + list(current.parents):\n",
    "    if p.name == \"Motif\":\n",
    "        os.chdir(p)\n",
    "        print(\"Changed working directory to Motif root:\", p)\n",
    "        break\n",
    "else:\n",
    "    raise FileNotFoundError(\"Could not locate a parent directory named 'Motif'\")"
   ]
  },
  {
   "cell_type": "code",
   "execution_count": 7,
   "id": "d952d410",
   "metadata": {},
   "outputs": [
    {
     "name": "stderr",
     "output_type": "stream",
     "text": [
      "/opt/anaconda3/envs/motif/lib/python3.11/site-packages/dask/dataframe/__init__.py:49: FutureWarning: \n",
      "Dask dataframe query planning is disabled because dask-expr is not installed.\n",
      "\n",
      "You can install it with `pip install dask[dataframe]` or `conda install dask`.\n",
      "This will raise in a future version.\n",
      "\n",
      "  warnings.warn(msg, FutureWarning)\n"
     ]
    }
   ],
   "source": [
    "from src.motif_core import grn_inference\n",
    "from src.motif_core import aggregation\n",
    "from src.motif_core import aggregation_grid_search"
   ]
  },
  {
   "cell_type": "code",
   "execution_count": 4,
   "id": "f413f5ac",
   "metadata": {},
   "outputs": [],
   "source": [
    "# Define input file paths\n",
    "cpgs_file = \"data/sample_cpgs.tsv\"\n",
    "genes_file = \"data/sample_genes.tsv\"\n",
    "seeds = [0, 42, 123, 2021, 77]"
   ]
  },
  {
   "cell_type": "code",
   "execution_count": 5,
   "id": "aebccc3d",
   "metadata": {},
   "outputs": [
    {
     "name": "stdout",
     "output_type": "stream",
     "text": [
      "Running GRNBoost2...\n"
     ]
    },
    {
     "name": "stderr",
     "output_type": "stream",
     "text": [
      "/opt/anaconda3/envs/motif/lib/python3.11/site-packages/distributed/worker_memory.py:508: FutureWarning: Parameter memory_target_fraction has been deprecated and will be removed in a future version; please use dask config key distributed.worker.memory.target instead\n",
      "  warnings.warn(\n",
      "/opt/anaconda3/envs/motif/lib/python3.11/site-packages/distributed/worker_memory.py:508: FutureWarning: Parameter memory_spill_fraction has been deprecated and will be removed in a future version; please use dask config key distributed.worker.memory.spill instead\n",
      "  warnings.warn(\n",
      "/opt/anaconda3/envs/motif/lib/python3.11/site-packages/dask/dataframe/__init__.py:49: FutureWarning: \n",
      "Dask dataframe query planning is disabled because dask-expr is not installed.\n",
      "\n",
      "You can install it with `pip install dask[dataframe]` or `conda install dask`.\n",
      "This will raise in a future version.\n",
      "\n",
      "  warnings.warn(msg, FutureWarning)\n"
     ]
    },
    {
     "name": "stdout",
     "output_type": "stream",
     "text": [
      "Network inference complete. Result saved to results/grn_inference.\n",
      "Running GRNBoost2...\n"
     ]
    },
    {
     "name": "stderr",
     "output_type": "stream",
     "text": [
      "/opt/anaconda3/envs/motif/lib/python3.11/site-packages/distributed/worker_memory.py:508: FutureWarning: Parameter memory_target_fraction has been deprecated and will be removed in a future version; please use dask config key distributed.worker.memory.target instead\n",
      "  warnings.warn(\n",
      "/opt/anaconda3/envs/motif/lib/python3.11/site-packages/distributed/worker_memory.py:508: FutureWarning: Parameter memory_spill_fraction has been deprecated and will be removed in a future version; please use dask config key distributed.worker.memory.spill instead\n",
      "  warnings.warn(\n",
      "/opt/anaconda3/envs/motif/lib/python3.11/site-packages/dask/dataframe/__init__.py:49: FutureWarning: \n",
      "Dask dataframe query planning is disabled because dask-expr is not installed.\n",
      "\n",
      "You can install it with `pip install dask[dataframe]` or `conda install dask`.\n",
      "This will raise in a future version.\n",
      "\n",
      "  warnings.warn(msg, FutureWarning)\n"
     ]
    },
    {
     "name": "stdout",
     "output_type": "stream",
     "text": [
      "Network inference complete. Result saved to results/grn_inference.\n",
      "Running GRNBoost2...\n"
     ]
    },
    {
     "name": "stderr",
     "output_type": "stream",
     "text": [
      "/opt/anaconda3/envs/motif/lib/python3.11/site-packages/distributed/worker_memory.py:508: FutureWarning: Parameter memory_target_fraction has been deprecated and will be removed in a future version; please use dask config key distributed.worker.memory.target instead\n",
      "  warnings.warn(\n",
      "/opt/anaconda3/envs/motif/lib/python3.11/site-packages/distributed/worker_memory.py:508: FutureWarning: Parameter memory_spill_fraction has been deprecated and will be removed in a future version; please use dask config key distributed.worker.memory.spill instead\n",
      "  warnings.warn(\n",
      "/opt/anaconda3/envs/motif/lib/python3.11/site-packages/dask/dataframe/__init__.py:49: FutureWarning: \n",
      "Dask dataframe query planning is disabled because dask-expr is not installed.\n",
      "\n",
      "You can install it with `pip install dask[dataframe]` or `conda install dask`.\n",
      "This will raise in a future version.\n",
      "\n",
      "  warnings.warn(msg, FutureWarning)\n"
     ]
    },
    {
     "name": "stdout",
     "output_type": "stream",
     "text": [
      "Network inference complete. Result saved to results/grn_inference.\n",
      "Running GRNBoost2...\n"
     ]
    },
    {
     "name": "stderr",
     "output_type": "stream",
     "text": [
      "/opt/anaconda3/envs/motif/lib/python3.11/site-packages/distributed/worker_memory.py:508: FutureWarning: Parameter memory_target_fraction has been deprecated and will be removed in a future version; please use dask config key distributed.worker.memory.target instead\n",
      "  warnings.warn(\n",
      "/opt/anaconda3/envs/motif/lib/python3.11/site-packages/distributed/worker_memory.py:508: FutureWarning: Parameter memory_spill_fraction has been deprecated and will be removed in a future version; please use dask config key distributed.worker.memory.spill instead\n",
      "  warnings.warn(\n",
      "/opt/anaconda3/envs/motif/lib/python3.11/site-packages/dask/dataframe/__init__.py:49: FutureWarning: \n",
      "Dask dataframe query planning is disabled because dask-expr is not installed.\n",
      "\n",
      "You can install it with `pip install dask[dataframe]` or `conda install dask`.\n",
      "This will raise in a future version.\n",
      "\n",
      "  warnings.warn(msg, FutureWarning)\n"
     ]
    },
    {
     "name": "stdout",
     "output_type": "stream",
     "text": [
      "Network inference complete. Result saved to results/grn_inference.\n",
      "Running GRNBoost2...\n"
     ]
    },
    {
     "name": "stderr",
     "output_type": "stream",
     "text": [
      "/opt/anaconda3/envs/motif/lib/python3.11/site-packages/distributed/worker_memory.py:508: FutureWarning: Parameter memory_target_fraction has been deprecated and will be removed in a future version; please use dask config key distributed.worker.memory.target instead\n",
      "  warnings.warn(\n",
      "/opt/anaconda3/envs/motif/lib/python3.11/site-packages/distributed/worker_memory.py:508: FutureWarning: Parameter memory_spill_fraction has been deprecated and will be removed in a future version; please use dask config key distributed.worker.memory.spill instead\n",
      "  warnings.warn(\n",
      "/opt/anaconda3/envs/motif/lib/python3.11/site-packages/dask/dataframe/__init__.py:49: FutureWarning: \n",
      "Dask dataframe query planning is disabled because dask-expr is not installed.\n",
      "\n",
      "You can install it with `pip install dask[dataframe]` or `conda install dask`.\n",
      "This will raise in a future version.\n",
      "\n",
      "  warnings.warn(msg, FutureWarning)\n"
     ]
    },
    {
     "name": "stdout",
     "output_type": "stream",
     "text": [
      "Network inference complete. Result saved to results/grn_inference.\n",
      "GRN inference results for seed 0:\n"
     ]
    },
    {
     "data": {
      "text/html": [
       "<div>\n",
       "<style scoped>\n",
       "    .dataframe tbody tr th:only-of-type {\n",
       "        vertical-align: middle;\n",
       "    }\n",
       "\n",
       "    .dataframe tbody tr th {\n",
       "        vertical-align: top;\n",
       "    }\n",
       "\n",
       "    .dataframe thead th {\n",
       "        text-align: right;\n",
       "    }\n",
       "</style>\n",
       "<table border=\"1\" class=\"dataframe\">\n",
       "  <thead>\n",
       "    <tr style=\"text-align: right;\">\n",
       "      <th></th>\n",
       "      <th>TF</th>\n",
       "      <th>target</th>\n",
       "      <th>importance</th>\n",
       "    </tr>\n",
       "  </thead>\n",
       "  <tbody>\n",
       "    <tr>\n",
       "      <th>0</th>\n",
       "      <td>ENSG00000060642</td>\n",
       "      <td>cg00002809</td>\n",
       "      <td>5.705554</td>\n",
       "    </tr>\n",
       "    <tr>\n",
       "      <th>1</th>\n",
       "      <td>ENSG00000057294</td>\n",
       "      <td>cg00000721</td>\n",
       "      <td>5.625646</td>\n",
       "    </tr>\n",
       "    <tr>\n",
       "      <th>2</th>\n",
       "      <td>ENSG00000166391</td>\n",
       "      <td>cg00000622</td>\n",
       "      <td>4.918205</td>\n",
       "    </tr>\n",
       "    <tr>\n",
       "      <th>3</th>\n",
       "      <td>ENSG00000070081</td>\n",
       "      <td>cg00000734</td>\n",
       "      <td>4.339199</td>\n",
       "    </tr>\n",
       "    <tr>\n",
       "      <th>4</th>\n",
       "      <td>ENSG00000060642</td>\n",
       "      <td>cg00002769</td>\n",
       "      <td>4.147474</td>\n",
       "    </tr>\n",
       "  </tbody>\n",
       "</table>\n",
       "</div>"
      ],
      "text/plain": [
       "                TF      target  importance\n",
       "0  ENSG00000060642  cg00002809    5.705554\n",
       "1  ENSG00000057294  cg00000721    5.625646\n",
       "2  ENSG00000166391  cg00000622    4.918205\n",
       "3  ENSG00000070081  cg00000734    4.339199\n",
       "4  ENSG00000060642  cg00002769    4.147474"
      ]
     },
     "metadata": {},
     "output_type": "display_data"
    },
    {
     "name": "stdout",
     "output_type": "stream",
     "text": [
      "GRN inference results for seed 42:\n"
     ]
    },
    {
     "data": {
      "text/html": [
       "<div>\n",
       "<style scoped>\n",
       "    .dataframe tbody tr th:only-of-type {\n",
       "        vertical-align: middle;\n",
       "    }\n",
       "\n",
       "    .dataframe tbody tr th {\n",
       "        vertical-align: top;\n",
       "    }\n",
       "\n",
       "    .dataframe thead th {\n",
       "        text-align: right;\n",
       "    }\n",
       "</style>\n",
       "<table border=\"1\" class=\"dataframe\">\n",
       "  <thead>\n",
       "    <tr style=\"text-align: right;\">\n",
       "      <th></th>\n",
       "      <th>TF</th>\n",
       "      <th>target</th>\n",
       "      <th>importance</th>\n",
       "    </tr>\n",
       "  </thead>\n",
       "  <tbody>\n",
       "    <tr>\n",
       "      <th>0</th>\n",
       "      <td>ENSG00000057294</td>\n",
       "      <td>cg00000721</td>\n",
       "      <td>5.599803</td>\n",
       "    </tr>\n",
       "    <tr>\n",
       "      <th>1</th>\n",
       "      <td>ENSG00000264576</td>\n",
       "      <td>cg00002597</td>\n",
       "      <td>4.898498</td>\n",
       "    </tr>\n",
       "    <tr>\n",
       "      <th>2</th>\n",
       "      <td>ENSG00000206072</td>\n",
       "      <td>cg00002145</td>\n",
       "      <td>4.506045</td>\n",
       "    </tr>\n",
       "    <tr>\n",
       "      <th>3</th>\n",
       "      <td>ENSG00000064225</td>\n",
       "      <td>cg00000957</td>\n",
       "      <td>4.334503</td>\n",
       "    </tr>\n",
       "    <tr>\n",
       "      <th>4</th>\n",
       "      <td>ENSG00000215246</td>\n",
       "      <td>cg00001364</td>\n",
       "      <td>4.070592</td>\n",
       "    </tr>\n",
       "  </tbody>\n",
       "</table>\n",
       "</div>"
      ],
      "text/plain": [
       "                TF      target  importance\n",
       "0  ENSG00000057294  cg00000721    5.599803\n",
       "1  ENSG00000264576  cg00002597    4.898498\n",
       "2  ENSG00000206072  cg00002145    4.506045\n",
       "3  ENSG00000064225  cg00000957    4.334503\n",
       "4  ENSG00000215246  cg00001364    4.070592"
      ]
     },
     "metadata": {},
     "output_type": "display_data"
    },
    {
     "name": "stdout",
     "output_type": "stream",
     "text": [
      "GRN inference results for seed 123:\n"
     ]
    },
    {
     "data": {
      "text/html": [
       "<div>\n",
       "<style scoped>\n",
       "    .dataframe tbody tr th:only-of-type {\n",
       "        vertical-align: middle;\n",
       "    }\n",
       "\n",
       "    .dataframe tbody tr th {\n",
       "        vertical-align: top;\n",
       "    }\n",
       "\n",
       "    .dataframe thead th {\n",
       "        text-align: right;\n",
       "    }\n",
       "</style>\n",
       "<table border=\"1\" class=\"dataframe\">\n",
       "  <thead>\n",
       "    <tr style=\"text-align: right;\">\n",
       "      <th></th>\n",
       "      <th>TF</th>\n",
       "      <th>target</th>\n",
       "      <th>importance</th>\n",
       "    </tr>\n",
       "  </thead>\n",
       "  <tbody>\n",
       "    <tr>\n",
       "      <th>0</th>\n",
       "      <td>ENSG00000227766</td>\n",
       "      <td>cg00004082</td>\n",
       "      <td>4.888872</td>\n",
       "    </tr>\n",
       "    <tr>\n",
       "      <th>1</th>\n",
       "      <td>ENSG00000057294</td>\n",
       "      <td>cg00001687</td>\n",
       "      <td>4.403597</td>\n",
       "    </tr>\n",
       "    <tr>\n",
       "      <th>2</th>\n",
       "      <td>ENSG00000127511</td>\n",
       "      <td>cg00002808</td>\n",
       "      <td>4.329350</td>\n",
       "    </tr>\n",
       "    <tr>\n",
       "      <th>3</th>\n",
       "      <td>ENSG00000215246</td>\n",
       "      <td>cg00001364</td>\n",
       "      <td>3.941459</td>\n",
       "    </tr>\n",
       "    <tr>\n",
       "      <th>4</th>\n",
       "      <td>ENSG00000206072</td>\n",
       "      <td>cg00002145</td>\n",
       "      <td>3.713339</td>\n",
       "    </tr>\n",
       "  </tbody>\n",
       "</table>\n",
       "</div>"
      ],
      "text/plain": [
       "                TF      target  importance\n",
       "0  ENSG00000227766  cg00004082    4.888872\n",
       "1  ENSG00000057294  cg00001687    4.403597\n",
       "2  ENSG00000127511  cg00002808    4.329350\n",
       "3  ENSG00000215246  cg00001364    3.941459\n",
       "4  ENSG00000206072  cg00002145    3.713339"
      ]
     },
     "metadata": {},
     "output_type": "display_data"
    },
    {
     "name": "stdout",
     "output_type": "stream",
     "text": [
      "GRN inference results for seed 2021:\n"
     ]
    },
    {
     "data": {
      "text/html": [
       "<div>\n",
       "<style scoped>\n",
       "    .dataframe tbody tr th:only-of-type {\n",
       "        vertical-align: middle;\n",
       "    }\n",
       "\n",
       "    .dataframe tbody tr th {\n",
       "        vertical-align: top;\n",
       "    }\n",
       "\n",
       "    .dataframe thead th {\n",
       "        text-align: right;\n",
       "    }\n",
       "</style>\n",
       "<table border=\"1\" class=\"dataframe\">\n",
       "  <thead>\n",
       "    <tr style=\"text-align: right;\">\n",
       "      <th></th>\n",
       "      <th>TF</th>\n",
       "      <th>target</th>\n",
       "      <th>importance</th>\n",
       "    </tr>\n",
       "  </thead>\n",
       "  <tbody>\n",
       "    <tr>\n",
       "      <th>0</th>\n",
       "      <td>ENSG00000215246</td>\n",
       "      <td>cg00001364</td>\n",
       "      <td>6.079778</td>\n",
       "    </tr>\n",
       "    <tr>\n",
       "      <th>1</th>\n",
       "      <td>ENSG00000057294</td>\n",
       "      <td>cg00000721</td>\n",
       "      <td>5.629400</td>\n",
       "    </tr>\n",
       "    <tr>\n",
       "      <th>2</th>\n",
       "      <td>ENSG00000215246</td>\n",
       "      <td>cg00004067</td>\n",
       "      <td>5.600062</td>\n",
       "    </tr>\n",
       "    <tr>\n",
       "      <th>3</th>\n",
       "      <td>ENSG00000179833</td>\n",
       "      <td>cg00003173</td>\n",
       "      <td>5.205131</td>\n",
       "    </tr>\n",
       "    <tr>\n",
       "      <th>4</th>\n",
       "      <td>ENSG00000166391</td>\n",
       "      <td>cg00002597</td>\n",
       "      <td>5.047079</td>\n",
       "    </tr>\n",
       "  </tbody>\n",
       "</table>\n",
       "</div>"
      ],
      "text/plain": [
       "                TF      target  importance\n",
       "0  ENSG00000215246  cg00001364    6.079778\n",
       "1  ENSG00000057294  cg00000721    5.629400\n",
       "2  ENSG00000215246  cg00004067    5.600062\n",
       "3  ENSG00000179833  cg00003173    5.205131\n",
       "4  ENSG00000166391  cg00002597    5.047079"
      ]
     },
     "metadata": {},
     "output_type": "display_data"
    },
    {
     "name": "stdout",
     "output_type": "stream",
     "text": [
      "GRN inference results for seed 77:\n"
     ]
    },
    {
     "data": {
      "text/html": [
       "<div>\n",
       "<style scoped>\n",
       "    .dataframe tbody tr th:only-of-type {\n",
       "        vertical-align: middle;\n",
       "    }\n",
       "\n",
       "    .dataframe tbody tr th {\n",
       "        vertical-align: top;\n",
       "    }\n",
       "\n",
       "    .dataframe thead th {\n",
       "        text-align: right;\n",
       "    }\n",
       "</style>\n",
       "<table border=\"1\" class=\"dataframe\">\n",
       "  <thead>\n",
       "    <tr style=\"text-align: right;\">\n",
       "      <th></th>\n",
       "      <th>TF</th>\n",
       "      <th>target</th>\n",
       "      <th>importance</th>\n",
       "    </tr>\n",
       "  </thead>\n",
       "  <tbody>\n",
       "    <tr>\n",
       "      <th>0</th>\n",
       "      <td>ENSG00000060642</td>\n",
       "      <td>cg00002809</td>\n",
       "      <td>5.882295</td>\n",
       "    </tr>\n",
       "    <tr>\n",
       "      <th>1</th>\n",
       "      <td>ENSG00000227766</td>\n",
       "      <td>cg00004082</td>\n",
       "      <td>5.196693</td>\n",
       "    </tr>\n",
       "    <tr>\n",
       "      <th>2</th>\n",
       "      <td>ENSG00000231105</td>\n",
       "      <td>cg00001854</td>\n",
       "      <td>5.030915</td>\n",
       "    </tr>\n",
       "    <tr>\n",
       "      <th>3</th>\n",
       "      <td>ENSG00000057294</td>\n",
       "      <td>cg00000721</td>\n",
       "      <td>4.837068</td>\n",
       "    </tr>\n",
       "    <tr>\n",
       "      <th>4</th>\n",
       "      <td>ENSG00000158486</td>\n",
       "      <td>cg00002464</td>\n",
       "      <td>4.302933</td>\n",
       "    </tr>\n",
       "  </tbody>\n",
       "</table>\n",
       "</div>"
      ],
      "text/plain": [
       "                TF      target  importance\n",
       "0  ENSG00000060642  cg00002809    5.882295\n",
       "1  ENSG00000227766  cg00004082    5.196693\n",
       "2  ENSG00000231105  cg00001854    5.030915\n",
       "3  ENSG00000057294  cg00000721    4.837068\n",
       "4  ENSG00000158486  cg00002464    4.302933"
      ]
     },
     "metadata": {},
     "output_type": "display_data"
    }
   ],
   "source": [
    "# Run inference several times\n",
    "for seed in seeds:\n",
    "    sys.argv = [\n",
    "        \"grn_inference.py\",\n",
    "        \"--cpgs_file\", cpgs_file,\n",
    "        \"--genes_file\", genes_file,\n",
    "        \"--seed\", str(seed)]\n",
    "    \n",
    "    grn_inference.main()\n",
    "\n",
    "# Iterate over each seed and preview the corresponding GRN inference output\n",
    "for seed in seeds:\n",
    "    # Build the path to the results file for this seed\n",
    "    result_path = f\"results/grn_inference/grn_with_seed_{seed}.tsv\"\n",
    "    \n",
    "    # Read the TSV output into a DataFrame\n",
    "    df = pd.read_csv(result_path, sep=\"\\t\")\n",
    "    \n",
    "    # Print a header and show the first few rows\n",
    "    print(f\"GRN inference results for seed {seed}:\")\n",
    "    display(df.head())"
   ]
  },
  {
   "cell_type": "code",
   "execution_count": 6,
   "id": "4e7b7239",
   "metadata": {},
   "outputs": [
    {
     "name": "stdout",
     "output_type": "stream",
     "text": [
      "Using seeds: [0, 42, 77, 123, 2021]\n",
      "Saved results to results/aggregation.\n",
      "\n",
      "Aggregation results: \n"
     ]
    },
    {
     "data": {
      "text/html": [
       "<div>\n",
       "<style scoped>\n",
       "    .dataframe tbody tr th:only-of-type {\n",
       "        vertical-align: middle;\n",
       "    }\n",
       "\n",
       "    .dataframe tbody tr th {\n",
       "        vertical-align: top;\n",
       "    }\n",
       "\n",
       "    .dataframe thead th {\n",
       "        text-align: right;\n",
       "    }\n",
       "</style>\n",
       "<table border=\"1\" class=\"dataframe\">\n",
       "  <thead>\n",
       "    <tr style=\"text-align: right;\">\n",
       "      <th></th>\n",
       "      <th>genes</th>\n",
       "      <th>mean_weight</th>\n",
       "    </tr>\n",
       "  </thead>\n",
       "  <tbody>\n",
       "    <tr>\n",
       "      <th>0</th>\n",
       "      <td>ENSG00000057294</td>\n",
       "      <td>5.054988</td>\n",
       "    </tr>\n",
       "    <tr>\n",
       "      <th>1</th>\n",
       "      <td>ENSG00000215246</td>\n",
       "      <td>4.415996</td>\n",
       "    </tr>\n",
       "    <tr>\n",
       "      <th>2</th>\n",
       "      <td>ENSG00000060642</td>\n",
       "      <td>4.270930</td>\n",
       "    </tr>\n",
       "    <tr>\n",
       "      <th>3</th>\n",
       "      <td>ENSG00000227766</td>\n",
       "      <td>4.086239</td>\n",
       "    </tr>\n",
       "    <tr>\n",
       "      <th>4</th>\n",
       "      <td>ENSG00000127511</td>\n",
       "      <td>3.793127</td>\n",
       "    </tr>\n",
       "  </tbody>\n",
       "</table>\n",
       "</div>"
      ],
      "text/plain": [
       "             genes  mean_weight\n",
       "0  ENSG00000057294     5.054988\n",
       "1  ENSG00000215246     4.415996\n",
       "2  ENSG00000060642     4.270930\n",
       "3  ENSG00000227766     4.086239\n",
       "4  ENSG00000127511     3.793127"
      ]
     },
     "execution_count": 6,
     "metadata": {},
     "output_type": "execute_result"
    }
   ],
   "source": [
    "sys.argv = [\"aggregation.py\", \"--method\", 'mean', \"--nruns\", 'all']\n",
    "    \n",
    "aggregation.main()\n",
    "\n",
    "# Load and preview results\n",
    "df = pd.read_csv(\"results/aggregation/aggregated_weights.tsv\", sep=\"\\t\")\n",
    "print(\"\\nAggregation results: \")\n",
    "df.head()"
   ]
  },
  {
   "cell_type": "code",
   "execution_count": 1,
   "id": "4ce3f829",
   "metadata": {},
   "outputs": [
    {
     "ename": "FileNotFoundError",
     "evalue": "[Errno 2] No such file or directory: 'resources/param_grid.json'",
     "output_type": "error",
     "traceback": [
      "\u001b[0;31m---------------------------------------------------------------------------\u001b[0m",
      "\u001b[0;31mFileNotFoundError\u001b[0m                         Traceback (most recent call last)",
      "Cell \u001b[0;32mIn[1], line 11\u001b[0m\n\u001b[1;32m      2\u001b[0m param_grid \u001b[38;5;241m=\u001b[39m {\n\u001b[1;32m      3\u001b[0m     \u001b[38;5;124m\"\u001b[39m\u001b[38;5;124mshould_normalize\u001b[39m\u001b[38;5;124m\"\u001b[39m: [\u001b[38;5;28;01mFalse\u001b[39;00m],\n\u001b[1;32m      4\u001b[0m     \u001b[38;5;124m\"\u001b[39m\u001b[38;5;124mshould_group_by_gene\u001b[39m\u001b[38;5;124m\"\u001b[39m: [\u001b[38;5;28;01mFalse\u001b[39;00m],\n\u001b[0;32m   (...)\u001b[0m\n\u001b[1;32m      7\u001b[0m     \u001b[38;5;124m\"\u001b[39m\u001b[38;5;124mbeta\u001b[39m\u001b[38;5;124m\"\u001b[39m: [\u001b[38;5;241m2\u001b[39m]\n\u001b[1;32m      8\u001b[0m }\n\u001b[1;32m     10\u001b[0m \u001b[38;5;66;03m# Save to JSON file\u001b[39;00m\n\u001b[0;32m---> 11\u001b[0m \u001b[38;5;28;01mwith\u001b[39;00m \u001b[38;5;28;43mopen\u001b[39;49m\u001b[43m(\u001b[49m\u001b[38;5;124;43m\"\u001b[39;49m\u001b[38;5;124;43mresources/param_grid.json\u001b[39;49m\u001b[38;5;124;43m\"\u001b[39;49m\u001b[43m,\u001b[49m\u001b[43m \u001b[49m\u001b[38;5;124;43m\"\u001b[39;49m\u001b[38;5;124;43mw\u001b[39;49m\u001b[38;5;124;43m\"\u001b[39;49m\u001b[43m)\u001b[49m \u001b[38;5;28;01mas\u001b[39;00m f:\n\u001b[1;32m     12\u001b[0m     json\u001b[38;5;241m.\u001b[39mdump(param_grid, f, indent\u001b[38;5;241m=\u001b[39m\u001b[38;5;241m4\u001b[39m)\n\u001b[1;32m     14\u001b[0m \u001b[38;5;28mprint\u001b[39m(\u001b[38;5;124m\"\u001b[39m\u001b[38;5;124mSaved param_grid.json to resources.\u001b[39m\u001b[38;5;124m\"\u001b[39m)\n",
      "File \u001b[0;32m/opt/anaconda3/envs/motif/lib/python3.11/site-packages/IPython/core/interactiveshell.py:324\u001b[0m, in \u001b[0;36m_modified_open\u001b[0;34m(file, *args, **kwargs)\u001b[0m\n\u001b[1;32m    317\u001b[0m \u001b[38;5;28;01mif\u001b[39;00m file \u001b[38;5;129;01min\u001b[39;00m {\u001b[38;5;241m0\u001b[39m, \u001b[38;5;241m1\u001b[39m, \u001b[38;5;241m2\u001b[39m}:\n\u001b[1;32m    318\u001b[0m     \u001b[38;5;28;01mraise\u001b[39;00m \u001b[38;5;167;01mValueError\u001b[39;00m(\n\u001b[1;32m    319\u001b[0m         \u001b[38;5;124mf\u001b[39m\u001b[38;5;124m\"\u001b[39m\u001b[38;5;124mIPython won\u001b[39m\u001b[38;5;124m'\u001b[39m\u001b[38;5;124mt let you open fd=\u001b[39m\u001b[38;5;132;01m{\u001b[39;00mfile\u001b[38;5;132;01m}\u001b[39;00m\u001b[38;5;124m by default \u001b[39m\u001b[38;5;124m\"\u001b[39m\n\u001b[1;32m    320\u001b[0m         \u001b[38;5;124m\"\u001b[39m\u001b[38;5;124mas it is likely to crash IPython. If you know what you are doing, \u001b[39m\u001b[38;5;124m\"\u001b[39m\n\u001b[1;32m    321\u001b[0m         \u001b[38;5;124m\"\u001b[39m\u001b[38;5;124myou can use builtins\u001b[39m\u001b[38;5;124m'\u001b[39m\u001b[38;5;124m open.\u001b[39m\u001b[38;5;124m\"\u001b[39m\n\u001b[1;32m    322\u001b[0m     )\n\u001b[0;32m--> 324\u001b[0m \u001b[38;5;28;01mreturn\u001b[39;00m \u001b[43mio_open\u001b[49m\u001b[43m(\u001b[49m\u001b[43mfile\u001b[49m\u001b[43m,\u001b[49m\u001b[43m \u001b[49m\u001b[38;5;241;43m*\u001b[39;49m\u001b[43margs\u001b[49m\u001b[43m,\u001b[49m\u001b[43m \u001b[49m\u001b[38;5;241;43m*\u001b[39;49m\u001b[38;5;241;43m*\u001b[39;49m\u001b[43mkwargs\u001b[49m\u001b[43m)\u001b[49m\n",
      "\u001b[0;31mFileNotFoundError\u001b[0m: [Errno 2] No such file or directory: 'resources/param_grid.json'"
     ]
    }
   ],
   "source": [
    "# Define parameter grid for aggregation\n",
    "param_grid = {\n",
    "    \"should_normalize\": [False],\n",
    "    \"should_group_by_gene\": [False],\n",
    "    \"method\": [\"mean\", \"freq\"],\n",
    "    \"alpha\": [10],\n",
    "    \"beta\": [2]\n",
    "}\n",
    "\n",
    "# Save to JSON file\n",
    "with open(\"resources/param_grid.json\", \"w\") as f:\n",
    "    json.dump(param_grid, f, indent=4)\n",
    "\n",
    "print(\"Saved param_grid.json to resources.\")"
   ]
  },
  {
   "cell_type": "code",
   "execution_count": 8,
   "id": "b33f7643",
   "metadata": {},
   "outputs": [
    {
     "name": "stdout",
     "output_type": "stream",
     "text": [
      "Loaded parameter grid from: resources/param_grid.json\n",
      "Using seeds: [0, 42, 77, 123, 2021]\n",
      "\n",
      "Parameter setting:\n",
      "   should_normalize  should_group_by_gene method  alpha  beta\n",
      "0             False                 False   mean    NaN   NaN\n",
      "\n",
      "Aggregation results:\n",
      "             genes        cpgs  mean_weight\n",
      "0  ENSG00000057294  cg00000721     5.054988\n",
      "1  ENSG00000215246  cg00001364     4.415996\n",
      "2  ENSG00000060642  cg00002809     4.270930\n",
      "3  ENSG00000227766  cg00004082     4.086239\n",
      "4  ENSG00000127511  cg00002808     3.793127\n"
     ]
    }
   ],
   "source": [
    "# Run grid search over aggregation parameters\n",
    "sys.argv = [\"aggregation_grid_search.py\", \"resources/param_grid.json\"]\n",
    "aggregation_grid_search.main(sys.argv[1])\n",
    "\n",
    "param_files = sorted(glob.glob(\"results/aggregation_grid_search/params_*.tsv\")) #sorted(glob.glob\n",
    "result_files = sorted(glob.glob(\"results/aggregation_grid_search/aggregated_weights_*.tsv\"))\n",
    "\n",
    "# Load one example parameter/result pair\n",
    "example_param = pd.read_csv(param_files[0], sep=\"\\t\")\n",
    "example_result = pd.read_csv(result_files[0], sep=\"\\t\")\n",
    "print(\"\\nParameter setting:\")\n",
    "print(example_param.head())\n",
    "print(\"\\nAggregation results:\")\n",
    "print(example_result.head())"
   ]
  },
  {
   "cell_type": "code",
   "execution_count": null,
   "id": "970315e5",
   "metadata": {},
   "outputs": [],
   "source": []
  }
 ],
 "metadata": {
  "kernelspec": {
   "display_name": "motif",
   "language": "python",
   "name": "python3"
  },
  "language_info": {
   "codemirror_mode": {
    "name": "ipython",
    "version": 3
   },
   "file_extension": ".py",
   "mimetype": "text/x-python",
   "name": "python",
   "nbconvert_exporter": "python",
   "pygments_lexer": "ipython3",
   "version": "3.11.8"
  }
 },
 "nbformat": 4,
 "nbformat_minor": 5
}
