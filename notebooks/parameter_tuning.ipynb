{
 "cells": [
  {
   "cell_type": "code",
   "execution_count": 2,
   "id": "f66d641e",
   "metadata": {},
   "outputs": [],
   "source": [
    "import pandas as pd\n",
    "import matplotlib.pyplot as plt\n",
    "import pandas as pd\n",
    "import os\n",
    "from pathlib import Path"
   ]
  },
  {
   "cell_type": "code",
   "execution_count": 3,
   "id": "70e25156",
   "metadata": {},
   "outputs": [
    {
     "name": "stdout",
     "output_type": "stream",
     "text": [
      "Changed working directory to Motif root: /Users/juliamarlene/Documents/GitHub/Motif\n"
     ]
    }
   ],
   "source": [
    "# Determine the notebook’s current directory\n",
    "current = Path().resolve()\n",
    "\n",
    "# Traverse upward until we find a directory named \"MOTIF\"\n",
    "for p in [current] + list(current.parents):\n",
    "    if p.name == \"Motif\":\n",
    "        os.chdir(p)\n",
    "        print(\"Changed working directory to Motif root:\", p)\n",
    "        break\n",
    "else:\n",
    "    raise FileNotFoundError(\"Could not locate a parent directory named 'Motif'\")"
   ]
  },
  {
   "cell_type": "code",
   "execution_count": 12,
   "id": "75405425",
   "metadata": {},
   "outputs": [
    {
     "data": {
      "text/html": [
       "<div>\n",
       "<style scoped>\n",
       "    .dataframe tbody tr th:only-of-type {\n",
       "        vertical-align: middle;\n",
       "    }\n",
       "\n",
       "    .dataframe tbody tr th {\n",
       "        vertical-align: top;\n",
       "    }\n",
       "\n",
       "    .dataframe thead th {\n",
       "        text-align: right;\n",
       "    }\n",
       "</style>\n",
       "<table border=\"1\" class=\"dataframe\">\n",
       "  <thead>\n",
       "    <tr style=\"text-align: right;\">\n",
       "      <th></th>\n",
       "      <th>should_normalize</th>\n",
       "      <th>should_group_by_gene</th>\n",
       "      <th>method</th>\n",
       "      <th>alpha</th>\n",
       "      <th>beta</th>\n",
       "      <th>p_value</th>\n",
       "    </tr>\n",
       "  </thead>\n",
       "  <tbody>\n",
       "    <tr>\n",
       "      <th>0</th>\n",
       "      <td>False</td>\n",
       "      <td>False</td>\n",
       "      <td>mean</td>\n",
       "      <td>NaN</td>\n",
       "      <td>NaN</td>\n",
       "      <td>0.328405</td>\n",
       "    </tr>\n",
       "    <tr>\n",
       "      <th>1</th>\n",
       "      <td>False</td>\n",
       "      <td>False</td>\n",
       "      <td>freq</td>\n",
       "      <td>10.0</td>\n",
       "      <td>2.0</td>\n",
       "      <td>0.319980</td>\n",
       "    </tr>\n",
       "  </tbody>\n",
       "</table>\n",
       "</div>"
      ],
      "text/plain": [
       "   should_normalize  should_group_by_gene method  alpha  beta   p_value\n",
       "0             False                 False   mean    NaN   NaN  0.328405\n",
       "1             False                 False   freq   10.0   2.0  0.319980"
      ]
     },
     "execution_count": 12,
     "metadata": {},
     "output_type": "execute_result"
    }
   ],
   "source": [
    "# Load grid search results\n",
    "df = pd.read_csv('results/evaluation_grid_search/grid_search_results.tsv', sep=\"\\t\")\n",
    "df.drop('intersec_entrez', axis=1)"
   ]
  },
  {
   "cell_type": "code",
   "execution_count": 13,
   "id": "6e736953",
   "metadata": {},
   "outputs": [
    {
     "name": "stdout",
     "output_type": "stream",
     "text": [
      "Top 10 parameter settings by p_value:\n",
      "   should_normalize  should_group_by_gene method  alpha  beta   p_value  \\\n",
      "1             False                 False   freq   10.0   2.0  0.319980   \n",
      "0             False                 False   mean    NaN   NaN  0.328405   \n",
      "\n",
      "                                     intersec_entrez  \n",
      "1  794,1602,2679,4925,5217,5251,5318,5476,5775,58...  \n",
      "0  794,1602,3848,4925,5217,5251,5318,5476,5775,58...  \n"
     ]
    }
   ],
   "source": [
    "# Find the Top 10 parameter settings by lowest p_value\n",
    "top10 = df.nsmallest(10, 'p_value')\n",
    "print(\"Top 10 parameter settings by p_value:\")\n",
    "print(top10)"
   ]
  },
  {
   "cell_type": "code",
   "execution_count": 30,
   "id": "9b88ea85",
   "metadata": {},
   "outputs": [
    {
     "name": "stdout",
     "output_type": "stream",
     "text": [
      "Top 10 parameter settings by p_value:\n",
      "Empty DataFrame\n",
      "Columns: [should_normalize, should_group_by_gene, method, alpha, beta, p_value, intersec_entrez]\n",
      "Index: []\n"
     ]
    }
   ],
   "source": [
    "top10 = df[(df['method'] == 'frequency')].nsmallest(10, 'p_value')\n",
    "print(\"Top 10 parameter settings by p_value:\")\n",
    "print(top10)\n"
   ]
  },
  {
   "cell_type": "code",
   "execution_count": 29,
   "id": "5fda8f72",
   "metadata": {},
   "outputs": [
    {
     "name": "stdout",
     "output_type": "stream",
     "text": [
      "   should_normalize  should_group_by_gene method  alpha  beta  p_value  \\\n",
      "1             False                 False   freq   10.0   2.0  0.31998   \n",
      "\n",
      "                                     intersec_entrez  \n",
      "1  794,1602,2679,4925,5217,5251,5318,5476,5775,58...  \n",
      "   should_normalize  should_group_by_gene method  alpha  beta  p_value  \\\n",
      "1             False                 False   freq   10.0   2.0  0.31998   \n",
      "\n",
      "                                     intersec_entrez  \n",
      "1  794,1602,2679,4925,5217,5251,5318,5476,5775,58...  \n"
     ]
    }
   ],
   "source": [
    "# Filter for relevant rows including alpha=10 and beta=2\n",
    "subset = df[\n",
    "    (df['alpha'] == 10) & \n",
    "    (df['beta'] == 2)\n",
    "]\n",
    "\n",
    "print(subset)\n",
    "# Define combinations to test\n",
    "combinations = [\n",
    "    (False, False),\n",
    "    (False, True),\n",
    "    (True, False),\n",
    "    (True, True)\n",
    "]\n",
    "\n",
    "# Collect best p_value per method and setting combination\n",
    "results = []\n",
    "\n",
    "for method in df['method'].unique():\n",
    "    for group_by, normalize in combinations:\n",
    "        filtered = subset[\n",
    "            (subset['method'] == method) &\n",
    "            (subset['should_group_by_gene'] == group_by) &\n",
    "            (subset['should_normalize'] == normalize)\n",
    "        ]\n",
    "        if not filtered.empty:\n",
    "            best_row = filtered.loc[filtered['p_value'].idxmin()]\n",
    "            results.append(best_row)\n",
    "\n",
    "# Convert to DataFrame\n",
    "best_combinations = pd.DataFrame(results)\n",
    "\n",
    "# Optional: sort and display\n",
    "best_combinations = best_combinations.sort_values(by=['method', 'should_group_by_gene', 'should_normalize'])\n",
    "print(best_combinations)\n",
    "\n"
   ]
  },
  {
   "cell_type": "code",
   "execution_count": 28,
   "id": "00205730",
   "metadata": {},
   "outputs": [
    {
     "name": "stdout",
     "output_type": "stream",
     "text": [
      "          method  should_group_by_gene  should_normalize  alpha  beta  p_value\n",
      "1           freq                 False             False   10.0   2.0  0.31998\n",
      "Unnamed 4   freq                 False              True   10.0   2.0      NaN\n",
      "Unnamed 5   freq                  True             False   10.0   2.0      NaN\n",
      "Unnamed 6   freq                  True              True   10.0   2.0      NaN\n",
      "Unnamed 0   mean                 False             False   10.0   2.0      NaN\n",
      "Unnamed 1   mean                 False              True   10.0   2.0      NaN\n",
      "Unnamed 2   mean                  True             False   10.0   2.0      NaN\n",
      "Unnamed 3   mean                  True              True   10.0   2.0      NaN\n"
     ]
    }
   ],
   "source": [
    "import pandas as pd\n",
    "\n",
    "# Filter for the main criteria\n",
    "subset = df[\n",
    "    (df['alpha'] == 10) &\n",
    "    (df['beta'] == 2)\n",
    "]\n",
    "\n",
    "# Define all combinations\n",
    "methods = df['method'].unique()\n",
    "combinations = [(g, n) for g in [False, True] for n in [False, True]]\n",
    "\n",
    "# Collect results\n",
    "results = []\n",
    "\n",
    "for method in methods:\n",
    "    for group_by, normalize in combinations:\n",
    "        filtered = subset[\n",
    "            (subset['method'] == method) &\n",
    "            (subset['should_group_by_gene'] == group_by) &\n",
    "            (subset['should_normalize'] == normalize)\n",
    "        ]\n",
    "        if not filtered.empty:\n",
    "            best_row = filtered.loc[filtered['p_value'].idxmin()]\n",
    "            results.append(best_row)\n",
    "        else:\n",
    "            # Append placeholder row with NaNs if no result\n",
    "            results.append(pd.Series({\n",
    "                'method': method,\n",
    "                'should_group_by_gene': group_by,\n",
    "                'should_normalize': normalize,\n",
    "                'alpha': 10,\n",
    "                'beta': 2,\n",
    "                'p_value': float('nan')\n",
    "            }))\n",
    "\n",
    "# Assemble final DataFrame\n",
    "best_combinations = pd.DataFrame(results)\n",
    "\n",
    "# Reorder columns\n",
    "best_combinations = best_combinations[\n",
    "    ['method', 'should_group_by_gene', 'should_normalize', 'alpha', 'beta', 'p_value']\n",
    "]\n",
    "\n",
    "# Sort for clarity\n",
    "best_combinations = best_combinations.sort_values(by=['method', 'should_group_by_gene', 'should_normalize'])\n",
    "\n",
    "print(best_combinations)\n"
   ]
  },
  {
   "cell_type": "code",
   "execution_count": 25,
   "id": "0bb28913",
   "metadata": {},
   "outputs": [
    {
     "name": "stdout",
     "output_type": "stream",
     "text": [
      "Worst 10 parameter settings by p_value:\n",
      "   should_normalize  should_group_by_gene method  alpha  beta   p_value  \\\n",
      "0             False                 False   mean    NaN   NaN  0.328405   \n",
      "1             False                 False   freq   10.0   2.0  0.319980   \n",
      "\n",
      "                                     intersec_entrez  \n",
      "0  794,1602,3848,4925,5217,5251,5318,5476,5775,58...  \n",
      "1  794,1602,2679,4925,5217,5251,5318,5476,5775,58...  \n"
     ]
    }
   ],
   "source": [
    "# Find the Worst 10 parameter settings by lowest p_value\n",
    "worst10 = df.nlargest(10, 'p_value')\n",
    "print(\"Worst 10 parameter settings by p_value:\")\n",
    "print(worst10)"
   ]
  },
  {
   "cell_type": "code",
   "execution_count": 19,
   "id": "ce769080",
   "metadata": {},
   "outputs": [
    {
     "name": "stdout",
     "output_type": "stream",
     "text": [
      "\n",
      "=== Mean p_value by factor level ===\n",
      "level  mean_p_value               factor\n",
      "False      0.324192     should_normalize\n",
      "False      0.324192 should_group_by_gene\n",
      " freq      0.319980               method\n",
      " mean      0.328405               method\n",
      " 10.0      0.319980                alpha\n",
      "  2.0      0.319980                 beta\n"
     ]
    }
   ],
   "source": [
    "# Main effects: mean p_value by each factor, in long form\n",
    "effects_list = []\n",
    "for factor in [\n",
    "    'should_normalize',\n",
    "    'should_group_by_gene',\n",
    "    'method',\n",
    "    'alpha',\n",
    "    'beta'\n",
    "]:\n",
    "    means = (\n",
    "        df\n",
    "        .groupby(factor)['p_value']\n",
    "        .mean()\n",
    "        .reset_index(name='mean_p_value')\n",
    "    )\n",
    "    means['factor'] = factor\n",
    "    means.rename(columns={factor: 'level'}, inplace=True)\n",
    "    effects_list.append(means)\n",
    "\n",
    "effects_df = pd.concat(effects_list, ignore_index=True)\n",
    "print(\"\\n=== Mean p_value by factor level ===\")\n",
    "print(effects_df.to_string(index=False))"
   ]
  },
  {
   "cell_type": "code",
   "execution_count": 20,
   "id": "519e1633",
   "metadata": {},
   "outputs": [
    {
     "name": "stdout",
     "output_type": "stream",
     "text": [
      "\n",
      "Mean p_value for each α–β combination:\n",
      "beta       2.0\n",
      "alpha         \n",
      "10.0   0.31998\n"
     ]
    }
   ],
   "source": [
    "\n",
    "# α–β interaction: pivot table of mean p_value\n",
    "alpha_beta = df.pivot_table(\n",
    "    index='alpha', \n",
    "    columns='beta', \n",
    "    values='p_value', \n",
    "    aggfunc='mean'\n",
    ")\n",
    "print(\"\\nMean p_value for each α–β combination:\")\n",
    "print(alpha_beta)"
   ]
  },
  {
   "cell_type": "code",
   "execution_count": 21,
   "id": "87e19113",
   "metadata": {},
   "outputs": [
    {
     "data": {
      "text/plain": [
       "<Figure size 800x500 with 0 Axes>"
      ]
     },
     "metadata": {},
     "output_type": "display_data"
    },
    {
     "data": {
      "image/png": "[encoded data removed]",
      "text/plain": [
       "<Figure size 640x480 with 1 Axes>"
      ]
     },
     "metadata": {},
     "output_type": "display_data"
    }
   ],
   "source": [
    "\n",
    "# Visualize: boxplot of p_value by aggregation method\n",
    "plt.figure(figsize=(8,5))\n",
    "df.boxplot(column='p_value', by='method', grid=False)\n",
    "plt.title('p_value Distribution by Method')\n",
    "plt.suptitle('')  # remove the default “Boxplot grouped by method” title\n",
    "plt.xlabel('Method')\n",
    "plt.ylabel('p_value')\n",
    "plt.tight_layout()\n",
    "plt.show()\n"
   ]
  },
  {
   "cell_type": "code",
   "execution_count": 23,
   "id": "b2d1b5ab",
   "metadata": {},
   "outputs": [
    {
     "data": {
      "text/html": [
       "<div>\n",
       "<style scoped>\n",
       "    .dataframe tbody tr th:only-of-type {\n",
       "        vertical-align: middle;\n",
       "    }\n",
       "\n",
       "    .dataframe tbody tr th {\n",
       "        vertical-align: top;\n",
       "    }\n",
       "\n",
       "    .dataframe thead th {\n",
       "        text-align: right;\n",
       "    }\n",
       "</style>\n",
       "<table border=\"1\" class=\"dataframe\">\n",
       "  <thead>\n",
       "    <tr style=\"text-align: right;\">\n",
       "      <th></th>\n",
       "      <th>count</th>\n",
       "      <th>mean</th>\n",
       "      <th>std</th>\n",
       "      <th>min</th>\n",
       "      <th>25%</th>\n",
       "      <th>50%</th>\n",
       "      <th>75%</th>\n",
       "      <th>max</th>\n",
       "    </tr>\n",
       "    <tr>\n",
       "      <th>method</th>\n",
       "      <th></th>\n",
       "      <th></th>\n",
       "      <th></th>\n",
       "      <th></th>\n",
       "      <th></th>\n",
       "      <th></th>\n",
       "      <th></th>\n",
       "      <th></th>\n",
       "    </tr>\n",
       "  </thead>\n",
       "  <tbody>\n",
       "    <tr>\n",
       "      <th>freq</th>\n",
       "      <td>1.0</td>\n",
       "      <td>0.319980</td>\n",
       "      <td>NaN</td>\n",
       "      <td>0.319980</td>\n",
       "      <td>0.319980</td>\n",
       "      <td>0.319980</td>\n",
       "      <td>0.319980</td>\n",
       "      <td>0.319980</td>\n",
       "    </tr>\n",
       "    <tr>\n",
       "      <th>mean</th>\n",
       "      <td>1.0</td>\n",
       "      <td>0.328405</td>\n",
       "      <td>NaN</td>\n",
       "      <td>0.328405</td>\n",
       "      <td>0.328405</td>\n",
       "      <td>0.328405</td>\n",
       "      <td>0.328405</td>\n",
       "      <td>0.328405</td>\n",
       "    </tr>\n",
       "  </tbody>\n",
       "</table>\n",
       "</div>"
      ],
      "text/plain": [
       "        count      mean  std       min       25%       50%       75%       max\n",
       "method                                                                        \n",
       "freq      1.0  0.319980  NaN  0.319980  0.319980  0.319980  0.319980  0.319980\n",
       "mean      1.0  0.328405  NaN  0.328405  0.328405  0.328405  0.328405  0.328405"
      ]
     },
     "execution_count": 23,
     "metadata": {},
     "output_type": "execute_result"
    }
   ],
   "source": [
    "df.groupby('method')['p_value'].describe()"
   ]
  },
  {
   "cell_type": "code",
   "execution_count": 24,
   "id": "a2bcecb9",
   "metadata": {},
   "outputs": [
    {
     "name": "stderr",
     "output_type": "stream",
     "text": [
      "/var/folders/_m/p6dshx3x4gg4mjfxf0t9_44h0000gn/T/ipykernel_12169/913406450.py:14: UserWarning: Attempting to set identical low and high xlims makes transformation singular; automatically expanding.\n",
      "  plt.imshow(heatmap_data.values, aspect='auto')\n",
      "/var/folders/_m/p6dshx3x4gg4mjfxf0t9_44h0000gn/T/ipykernel_12169/913406450.py:14: UserWarning: Attempting to set identical low and high ylims makes transformation singular; automatically expanding.\n",
      "  plt.imshow(heatmap_data.values, aspect='auto')\n"
     ]
    },
    {
     "data": {
      "image/png": "[encoded data removed]",
      "text/plain": [
       "<Figure size 600x500 with 2 Axes>"
      ]
     },
     "metadata": {},
     "output_type": "display_data"
    }
   ],
   "source": [
    "# Filter for nruns=5, nrows=1000, method=frequency\n",
    "sub = df[df['method'] == 'frequency']\n",
    "\n",
    "# Pivot to get mean p_value for each α–β combination\n",
    "heatmap_data = sub.pivot_table(\n",
    "    index='alpha',\n",
    "    columns='beta',\n",
    "    values='p_value',\n",
    "    aggfunc='mean'\n",
    ")\n",
    "\n",
    "# Plot the heatmap\n",
    "plt.figure(figsize=(6, 5))\n",
    "plt.imshow(heatmap_data.values, aspect='auto')\n",
    "plt.xticks(range(len(heatmap_data.columns)), heatmap_data.columns)\n",
    "plt.yticks(range(len(heatmap_data.index)), heatmap_data.index)\n",
    "plt.xlabel('β')\n",
    "plt.ylabel('α')\n",
    "plt.title('Heatmap of Mean p_value\\n(nruns=5, nrows=1000, method=frequency)')\n",
    "cbar = plt.colorbar(label='Mean p_value', orientation='vertical')\n",
    "plt.tight_layout()\n",
    "plt.show()\n"
   ]
  },
  {
   "cell_type": "code",
   "execution_count": 27,
   "id": "ed134b9f",
   "metadata": {},
   "outputs": [
    {
     "name": "stderr",
     "output_type": "stream",
     "text": [
      "/var/folders/_m/p6dshx3x4gg4mjfxf0t9_44h0000gn/T/ipykernel_7942/4164425268.py:16: UserWarning: Attempting to set identical low and high xlims makes transformation singular; automatically expanding.\n",
      "  plt.imshow(heatmap_data.values, aspect='auto')\n",
      "/var/folders/_m/p6dshx3x4gg4mjfxf0t9_44h0000gn/T/ipykernel_7942/4164425268.py:16: UserWarning: Attempting to set identical low and high ylims makes transformation singular; automatically expanding.\n",
      "  plt.imshow(heatmap_data.values, aspect='auto')\n"
     ]
    },
    {
     "data": {
      "image/png": "[encoded data removed]",
      "text/plain": [
       "<Figure size 600x500 with 2 Axes>"
      ]
     },
     "metadata": {},
     "output_type": "display_data"
    }
   ],
   "source": [
    "# Filter for nruns=5, nrows=1000, method=frequency\n",
    "sub = df[(df['nruns'] == 5) & \n",
    "         (df['nrows'] == 10000000) & \n",
    "         (df['method'] == 'frequency')]\n",
    "\n",
    "# Pivot to get mean p_value for each α–β combination\n",
    "heatmap_data = sub.pivot_table(\n",
    "    index='alpha',\n",
    "    columns='beta',\n",
    "    values='p_value',\n",
    "    aggfunc='mean'\n",
    ")\n",
    "\n",
    "# Plot the heatmap\n",
    "plt.figure(figsize=(6, 5))\n",
    "plt.imshow(heatmap_data.values, aspect='auto')\n",
    "plt.xticks(range(len(heatmap_data.columns)), heatmap_data.columns)\n",
    "plt.yticks(range(len(heatmap_data.index)), heatmap_data.index)\n",
    "plt.xlabel('β')\n",
    "plt.ylabel('α')\n",
    "plt.title('Heatmap of Mean p_value\\n(nruns=5, nrows=1000, method=frequency)')\n",
    "cbar = plt.colorbar(label='Mean p_value', orientation='vertical')\n",
    "plt.tight_layout()\n",
    "plt.show()"
   ]
  }
 ],
 "metadata": {
  "kernelspec": {
   "display_name": "motif",
   "language": "python",
   "name": "python3"
  },
  "language_info": {
   "codemirror_mode": {
    "name": "ipython",
    "version": 3
   },
   "file_extension": ".py",
   "mimetype": "text/x-python",
   "name": "python",
   "nbconvert_exporter": "python",
   "pygments_lexer": "ipython3",
   "version": "3.11.8"
  }
 },
 "nbformat": 4,
 "nbformat_minor": 5
}
